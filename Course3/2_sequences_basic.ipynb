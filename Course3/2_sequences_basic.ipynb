{
  "nbformat": 4,
  "nbformat_minor": 0,
  "metadata": {
    "colab": {
      "name": "2_sequences_basic.ipynb",
      "provenance": [],
      "authorship_tag": "ABX9TyOzDT5JcjoachOHD0Wvuq2c",
      "include_colab_link": true
    },
    "kernelspec": {
      "name": "python3",
      "display_name": "Python 3"
    },
    "language_info": {
      "name": "python"
    }
  },
  "cells": [
    {
      "cell_type": "markdown",
      "metadata": {
        "id": "view-in-github",
        "colab_type": "text"
      },
      "source": [
        "<a href=\"https://colab.research.google.com/github/Youngmi-Park/Coursera-DeepLearning.AI-TensorFlow-Developer/blob/main/Course3/2_sequences_basic.ipynb\" target=\"_parent\"><img src=\"https://colab.research.google.com/assets/colab-badge.svg\" alt=\"Open In Colab\"/></a>"
      ]
    },
    {
      "cell_type": "markdown",
      "source": [
        "이미지에서는 입력크기를 정의한 것 처럼 최소한 모든 문장을 같은 길이로 만들기 위해 이 목록을 조작해야 할 수도 있다. 그렇지 않으면 신경망을 훈련시키기 어려울 수 있다.\n",
        "\n",
        "광범위한 어휘를 얻기 위해 많은 훈련 데이터가 필요하다. 그렇지 않으면 문장 단어의 손실이 있을 수 있다. 아니면 특별한 값을 지정해 줄 수도 있다."
      ],
      "metadata": {
        "id": "Dp-myQGovFeo"
      }
    },
    {
      "cell_type": "code",
      "execution_count": 18,
      "metadata": {
        "id": "BOvByA5Ft3AE"
      },
      "outputs": [],
      "source": [
        "import tensorflow as tf\n",
        "from tensorflow import keras\n",
        "\n",
        "from tensorflow.keras.preprocessing.text import Tokenizer\n",
        "from tensorflow.keras.preprocessing.sequence import pad_sequences"
      ]
    },
    {
      "cell_type": "code",
      "source": [
        "sentences = [\n",
        "    'I love my dog',\n",
        "    'I love my cat',\n",
        "    'You love my dog!',\n",
        "    'Do you think my dog is amazing?'\n",
        "]"
      ],
      "metadata": {
        "id": "JnLLSaIM4DAy"
      },
      "execution_count": 19,
      "outputs": []
    },
    {
      "cell_type": "markdown",
      "source": [
        "이제 단어 색인에 없는 단어에 대해 외부 어휘에 대한 토큰 oov를 사용하도록 지정할 수 있다. 여기서 원하는 값을 사용할 수 있지만 실제 단어와 혼동되지 않는 고유한 것이어야 한다."
      ],
      "metadata": {
        "id": "p2TAchB951zi"
      }
    },
    {
      "cell_type": "code",
      "source": [
        "tokenizer = Tokenizer(num_words=100, oov_token='<OOV>') # 토크나이저 생성자에 oov 토큰을 추가\n",
        "tokenizer.fit_on_texts(sentences)\n",
        "word_index = tokenizer.word_index"
      ],
      "metadata": {
        "id": "9eQn43Ti4T76"
      },
      "execution_count": 16,
      "outputs": []
    },
    {
      "cell_type": "markdown",
      "source": [
        "단어를 인코딩한다."
      ],
      "metadata": {
        "id": "h7EwJ9oF6o6h"
      }
    },
    {
      "cell_type": "code",
      "source": [
        "sequences = tokenizer.texts_to_sequences(sentences)"
      ],
      "metadata": {
        "id": "UYFD4Oly6Q2v"
      },
      "execution_count": 21,
      "outputs": []
    },
    {
      "cell_type": "markdown",
      "source": [
        "다음은 패딩이다. 훈련을 위해 네트워크에 공급할 때 텍스트의 경우 텍스트로 훈련하기 전에 어느 정도 크기의 균일성이 필요하므로 패딩을 사용한다."
      ],
      "metadata": {
        "id": "0b99vNic6ahe"
      }
    },
    {
      "cell_type": "code",
      "source": [
        "padded = pad_sequences(sequences, maxlen=5) # 문장 앞에 0으로 padding, default = pre\n",
        "# maxlen 문장 최대 길이를 5로 설정, 문장에 최대 5개의 단어만 포함한다."
      ],
      "metadata": {
        "id": "f0Wx80Yn6ZOX"
      },
      "execution_count": 24,
      "outputs": []
    },
    {
      "cell_type": "code",
      "source": [
        "print(\"\\nWord Index = \" , word_index)\n",
        "print(\"\\nSequences = \" , sequences)\n",
        "print(\"\\nPadded Sequences:\")\n",
        "print(padded)"
      ],
      "metadata": {
        "colab": {
          "base_uri": "https://localhost:8080/"
        },
        "id": "wdITqUsu6mMI",
        "outputId": "41ae7541-4307-4832-fe3b-6546f339b339"
      },
      "execution_count": 25,
      "outputs": [
        {
          "output_type": "stream",
          "name": "stdout",
          "text": [
            "\n",
            "Word Index =  {'<OOV>': 1, 'my': 2, 'love': 3, 'dog': 4, 'i': 5, 'you': 6, 'cat': 7, 'do': 8, 'think': 9, 'is': 10, 'amazing': 11}\n",
            "\n",
            "Sequences =  [[5, 3, 2, 4], [5, 3, 2, 7], [6, 3, 2, 4], [8, 6, 9, 2, 4, 10, 11]]\n",
            "\n",
            "Padded Sequences:\n",
            "[[ 0  5  3  2  4]\n",
            " [ 0  5  3  2  7]\n",
            " [ 0  6  3  2  4]\n",
            " [ 9  2  4 10 11]]\n"
          ]
        }
      ]
    },
    {
      "cell_type": "markdown",
      "source": [
        "Padded Sequences를 보면 문장 목록이 행렬로 채워지고 행렬의 각 행 길이가 동일한 것을 볼 수 있다.패딩을 문장 뒤에 넣고 싶다면 `padding=post`를 추가하면 된다. \n",
        "\n",
        "행렬의 너비는 가장 긴 문장과 같아지는데, `maxlen` 매개변수를 사용하여 이를 재정의할 수 있다.\n",
        "\n",
        "maxlength보다 긴 문장이 있으면 정보를 잃게된다. 이때, 패딩과 마찬가지로 기본값은 pre이다. 즉, 문장의 시작 부분부터 잃게 된다. 끝에서 잃도록 하려면 `truncating=post`를 사용하면 된다."
      ],
      "metadata": {
        "id": "oDh-O9Li9cEf"
      }
    },
    {
      "cell_type": "code",
      "source": [
        "# Try with words that the tokenizer wasn't fit to\n",
        "test_data = [\n",
        "    'i really love my dog',\n",
        "    'my dog loves my manatee'\n",
        "]"
      ],
      "metadata": {
        "id": "j5nyvRKX_fZM"
      },
      "execution_count": 26,
      "outputs": []
    },
    {
      "cell_type": "code",
      "source": [
        "test_seq = tokenizer.texts_to_sequences(test_data)\n",
        "print(\"\\nTest Sequence = \", test_seq)"
      ],
      "metadata": {
        "colab": {
          "base_uri": "https://localhost:8080/"
        },
        "id": "0Evp-otG_jMJ",
        "outputId": "b9aaa2a9-3dd1-488a-f3cc-534e8f4e5699"
      },
      "execution_count": 27,
      "outputs": [
        {
          "output_type": "stream",
          "name": "stdout",
          "text": [
            "\n",
            "Test Sequence =  [[5, 1, 3, 2, 4], [2, 4, 1, 2, 1]]\n"
          ]
        }
      ]
    },
    {
      "cell_type": "code",
      "source": [
        "padded = pad_sequences(test_seq, maxlen=10)\n",
        "print(\"\\nPadded Test Sequence: \")\n",
        "print(padded)"
      ],
      "metadata": {
        "colab": {
          "base_uri": "https://localhost:8080/"
        },
        "id": "sRi5xq_a_lMP",
        "outputId": "63c30dda-4686-4ecc-e792-1d3c05d4cebc"
      },
      "execution_count": 28,
      "outputs": [
        {
          "output_type": "stream",
          "name": "stdout",
          "text": [
            "\n",
            "Padded Test Sequence: \n",
            "[[0 0 0 0 0 5 1 3 2 4]\n",
            " [0 0 0 0 0 2 4 1 2 1]]\n"
          ]
        }
      ]
    }
  ]
}